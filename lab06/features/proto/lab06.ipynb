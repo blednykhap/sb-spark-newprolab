{
 "cells": [
  {
   "cell_type": "code",
   "execution_count": 1,
   "metadata": {},
   "outputs": [],
   "source": [
    "import org.apache.spark.sql.functions._\n",
    "import org.apache.spark.sql.types._"
   ]
  },
  {
   "cell_type": "code",
   "execution_count": 2,
   "metadata": {},
   "outputs": [
    {
     "data": {
      "text/plain": [
       "spark = org.apache.spark.sql.SparkSession@41883234\n"
      ]
     },
     "metadata": {},
     "output_type": "display_data"
    },
    {
     "data": {
      "text/plain": [
       "org.apache.spark.sql.SparkSession@41883234"
      ]
     },
     "execution_count": 2,
     "metadata": {},
     "output_type": "execute_result"
    }
   ],
   "source": [
    "val spark = SparkSession.builder()\n",
    "    .appName(\"Features Lab06 DE\")\n",
    "    //.master(\"yarn\")\n",
    "    //.config(\"spark.submit.deployMode\", \"cluster\")\n",
    "    .config(\"spark.driver.memory\", \"9g\")\n",
    "    .config(\"spark.driver.cores\", \"3\")\n",
    "    .config(\"spark.executor.instances\", \"6\")\n",
    "    .config(\"spark.executor.memory\", \"12g\")\n",
    "    .config(\"spark.executor.cores\", \"6\")\n",
    "    //.config(\"spark.sql.shuffle.partitions\", \"81\")\n",
    "    .config(\"spark.sql.session.timeZone\", \"UTC\")\n",
    "    .getOrCreate()"
   ]
  },
  {
   "cell_type": "code",
   "execution_count": null,
   "metadata": {},
   "outputs": [],
   "source": [
    "spark"
   ]
  },
  {
   "cell_type": "code",
   "execution_count": null,
   "metadata": {},
   "outputs": [],
   "source": [
    "spark.stop()"
   ]
  },
  {
   "cell_type": "code",
   "execution_count": 3,
   "metadata": {},
   "outputs": [
    {
     "data": {
      "text/plain": [
       "weblogs = [uid: string, visits: array<struct<timestamp:bigint,url:string>>]\n"
      ]
     },
     "metadata": {},
     "output_type": "display_data"
    },
    {
     "data": {
      "text/plain": [
       "[uid: string, visits: array<struct<timestamp:bigint,url:string>>]"
      ]
     },
     "execution_count": 3,
     "metadata": {},
     "output_type": "execute_result"
    }
   ],
   "source": [
    "val weblogs = spark.read.json(\"/labs/laba03/weblogs.json\")"
   ]
  },
  {
   "cell_type": "code",
   "execution_count": 4,
   "metadata": {},
   "outputs": [
    {
     "data": {
      "text/plain": [
       "parsed_logs = [uid: string, domain: string ... 1 more field]\n"
      ]
     },
     "metadata": {},
     "output_type": "display_data"
    },
    {
     "data": {
      "text/plain": [
       "[uid: string, domain: string ... 1 more field]"
      ]
     },
     "execution_count": 4,
     "metadata": {},
     "output_type": "execute_result"
    }
   ],
   "source": [
    "val parsed_logs = weblogs\n",
    "    .select(col(\"uid\"), explode(col(\"visits\")).alias(\"visits\"))\n",
    "    .select(col(\"uid\"), col(\"visits.timestamp\").alias(\"timestamp\"), col(\"visits.url\").alias(\"url\"))\n",
    "    .withColumn(\"host\", lower(callUDF(\"parse_url\", $\"url\", lit(\"HOST\"))))\n",
    "    .withColumn(\"domain\", regexp_replace($\"host\", \"www.\", \"\"))\n",
    "    .select(col(\"uid\"), col(\"domain\"), col(\"timestamp\"))"
   ]
  },
  {
   "cell_type": "code",
   "execution_count": 5,
   "metadata": {},
   "outputs": [
    {
     "data": {
      "text/plain": [
       "top_domains = [domain: string, cn: bigint]\n"
      ]
     },
     "metadata": {},
     "output_type": "display_data"
    },
    {
     "data": {
      "text/plain": [
       "[domain: string, cn: bigint]"
      ]
     },
     "execution_count": 5,
     "metadata": {},
     "output_type": "execute_result"
    }
   ],
   "source": [
    "val top_domains = parsed_logs\n",
    "    .groupBy(col(\"domain\"))\n",
    "    .agg(count(lit(1)).alias(\"cn\"))\n",
    "    .sort(col(\"cn\").desc)\n",
    "    .filter(\"domain != 'null'\")\n",
    "    .limit(1000)"
   ]
  },
  {
   "cell_type": "code",
   "execution_count": 6,
   "metadata": {},
   "outputs": [
    {
     "data": {
      "text/plain": [
       "sorted_domain = [domain: string]\n"
      ]
     },
     "metadata": {},
     "output_type": "display_data"
    },
    {
     "data": {
      "text/plain": [
       "[domain: string]"
      ]
     },
     "execution_count": 6,
     "metadata": {},
     "output_type": "execute_result"
    }
   ],
   "source": [
    "val sorted_domain = top_domains\n",
    "    .select(\"domain\")\n",
    "    .sort(\"domain\")"
   ]
  },
  {
   "cell_type": "code",
   "execution_count": 7,
   "metadata": {
    "scrolled": true
   },
   "outputs": [
    {
     "data": {
      "text/plain": [
       "sorted_logs = [domain: string, uid: string ... 1 more field]\n"
      ]
     },
     "metadata": {},
     "output_type": "display_data"
    },
    {
     "data": {
      "text/plain": [
       "[domain: string, uid: string ... 1 more field]"
      ]
     },
     "execution_count": 7,
     "metadata": {},
     "output_type": "execute_result"
    }
   ],
   "source": [
    "val sorted_logs = parsed_logs\n",
    "    .join(sorted_domain, Seq(\"domain\"), \"inner\")"
   ]
  },
  {
   "cell_type": "code",
   "execution_count": 8,
   "metadata": {},
   "outputs": [
    {
     "data": {
      "text/plain": [
       "users_domains = [uid: string, .kasparov.ru: bigint ... 999 more fields]\n"
      ]
     },
     "metadata": {},
     "output_type": "display_data"
    },
    {
     "data": {
      "text/plain": [
       "[uid: string, .kasparov.ru: bigint ... 999 more fields]"
      ]
     },
     "execution_count": 8,
     "metadata": {},
     "output_type": "execute_result"
    }
   ],
   "source": [
    "val users_domains = sorted_logs\n",
    "    .select(\"uid\", \"domain\")\n",
    "    .groupBy(\"uid\")\n",
    "    .pivot(\"domain\")\n",
    "    .agg(count(lit(1)))\n",
    "    .na.fill(0)"
   ]
  },
  {
   "cell_type": "code",
   "execution_count": 9,
   "metadata": {},
   "outputs": [
    {
     "data": {
      "text/plain": [
       "ecran_result = [uid: string, domain_features: array<bigint>]\n"
      ]
     },
     "metadata": {},
     "output_type": "display_data"
    },
    {
     "data": {
      "text/plain": [
       "[uid: string, domain_features: array<bigint>]"
      ]
     },
     "execution_count": 9,
     "metadata": {},
     "output_type": "execute_result"
    }
   ],
   "source": [
    "val ecran_result = users_domains.select(col(\"uid\"),\n",
    "    array(users_domains.columns.drop(1).map(c => col(s\"`$c`\")):_*).alias(\"domain_features\"))"
   ]
  },
  {
   "cell_type": "code",
   "execution_count": 10,
   "metadata": {},
   "outputs": [
    {
     "data": {
      "text/plain": [
       "timing_df = [uid: string, domain: string ... 35 more fields]\n"
      ]
     },
     "metadata": {},
     "output_type": "display_data"
    },
    {
     "data": {
      "text/plain": [
       "[uid: string, domain: string ... 35 more fields]"
      ]
     },
     "execution_count": 10,
     "metadata": {},
     "output_type": "execute_result"
    }
   ],
   "source": [
    "val timing_df = parsed_logs\n",
    "    .withColumn(\"greg_date\", to_timestamp(col(\"timestamp\")/1000))\n",
    "    .withColumn(\"web_day_mon\", when(date_format(col(\"greg_date\"), \"u\") === 1, 1).otherwise(0))\n",
    "    .withColumn(\"web_day_tue\", when(date_format(col(\"greg_date\"), \"u\") === 2, 1).otherwise(0))\n",
    "    .withColumn(\"web_day_wed\", when(date_format(col(\"greg_date\"), \"u\") === 3, 1).otherwise(0))\n",
    "    .withColumn(\"web_day_thu\", when(date_format(col(\"greg_date\"), \"u\") === 4, 1).otherwise(0))\n",
    "    .withColumn(\"web_day_fri\", when(date_format(col(\"greg_date\"), \"u\") === 5, 1).otherwise(0))\n",
    "    .withColumn(\"web_day_sat\", when(date_format(col(\"greg_date\"), \"u\") === 6, 1).otherwise(0))\n",
    "    .withColumn(\"web_day_sun\", when(date_format(col(\"greg_date\"), \"u\") === 7, 1).otherwise(0))\n",
    "    .withColumn(\"web_hour_0\", when(hour(col(\"greg_date\")) === 0, 1).otherwise(0))\n",
    "    .withColumn(\"web_hour_1\", when(hour(col(\"greg_date\")) === 1, 1).otherwise(0))\n",
    "    .withColumn(\"web_hour_2\", when(hour(col(\"greg_date\")) === 2, 1).otherwise(0))\n",
    "    .withColumn(\"web_hour_3\", when(hour(col(\"greg_date\")) === 3, 1).otherwise(0))\n",
    "    .withColumn(\"web_hour_4\", when(hour(col(\"greg_date\")) === 4, 1).otherwise(0))\n",
    "    .withColumn(\"web_hour_5\", when(hour(col(\"greg_date\")) === 5, 1).otherwise(0))\n",
    "    .withColumn(\"web_hour_6\", when(hour(col(\"greg_date\")) === 6, 1).otherwise(0))\n",
    "    .withColumn(\"web_hour_7\", when(hour(col(\"greg_date\")) === 7, 1).otherwise(0))\n",
    "    .withColumn(\"web_hour_8\", when(hour(col(\"greg_date\")) === 8, 1).otherwise(0))\n",
    "    .withColumn(\"web_hour_9\", when(hour(col(\"greg_date\")) === 9, 1).otherwise(0))\n",
    "    .withColumn(\"web_hour_10\", when(hour(col(\"greg_date\")) === 10, 1).otherwise(0))\n",
    "    .withColumn(\"web_hour_11\", when(hour(col(\"greg_date\")) === 11, 1).otherwise(0))\n",
    "    .withColumn(\"web_hour_12\", when(hour(col(\"greg_date\")) === 12, 1).otherwise(0))\n",
    "    .withColumn(\"web_hour_13\", when(hour(col(\"greg_date\")) === 13, 1).otherwise(0))\n",
    "    .withColumn(\"web_hour_14\", when(hour(col(\"greg_date\")) === 14, 1).otherwise(0))\n",
    "    .withColumn(\"web_hour_15\", when(hour(col(\"greg_date\")) === 15, 1).otherwise(0))\n",
    "    .withColumn(\"web_hour_16\", when(hour(col(\"greg_date\")) === 16, 1).otherwise(0))\n",
    "    .withColumn(\"web_hour_17\", when(hour(col(\"greg_date\")) === 17, 1).otherwise(0))\n",
    "    .withColumn(\"web_hour_18\", when(hour(col(\"greg_date\")) === 18, 1).otherwise(0))\n",
    "    .withColumn(\"web_hour_19\", when(hour(col(\"greg_date\")) === 19, 1).otherwise(0))\n",
    "    .withColumn(\"web_hour_20\", when(hour(col(\"greg_date\")) === 20, 1).otherwise(0))\n",
    "    .withColumn(\"web_hour_21\", when(hour(col(\"greg_date\")) === 21, 1).otherwise(0))\n",
    "    .withColumn(\"web_hour_22\", when(hour(col(\"greg_date\")) === 22, 1).otherwise(0))\n",
    "    .withColumn(\"web_hour_23\", when(hour(col(\"greg_date\")) === 23, 1).otherwise(0))\n",
    "    .withColumn(\"visit_work_hours\", \n",
    "                when((hour(col(\"greg_date\")) >= 9) && (hour(col(\"greg_date\")) <= 17), 1).otherwise(0))\n",
    "    .withColumn(\"visit_evening_hours\", \n",
    "                when((hour(col(\"greg_date\")) >= 18) && (hour(col(\"greg_date\")) <= 23), 1).otherwise(0))\n",
    " //   .drop(\"domain\", \"timestamp\", \"greg_date\")"
   ]
  },
  {
   "cell_type": "code",
   "execution_count": 11,
   "metadata": {},
   "outputs": [
    {
     "data": {
      "text/plain": [
       "timing_agg = [uid: string, web_day_mon: bigint ... 33 more fields]\n"
      ]
     },
     "metadata": {},
     "output_type": "display_data"
    },
    {
     "data": {
      "text/plain": [
       "[uid: string, web_day_mon: bigint ... 33 more fields]"
      ]
     },
     "execution_count": 11,
     "metadata": {},
     "output_type": "execute_result"
    }
   ],
   "source": [
    "val timing_agg = timing_df\n",
    "    .groupBy(\"uid\")\n",
    "    .agg(sum(col(\"web_day_mon\")).alias(\"web_day_mon\"),sum(col(\"web_day_tue\")).alias(\"web_day_tue\"),\n",
    "        sum(col(\"web_day_wed\")).alias(\"web_day_wed\"),sum(col(\"web_day_thu\")).alias(\"web_day_thu\"),\n",
    "        sum(col(\"web_day_fri\")).alias(\"web_day_fri\"),sum(col(\"web_day_sat\")).alias(\"web_day_sat\"),\n",
    "        sum(col(\"web_day_sun\")).alias(\"web_day_sun\"),sum(col(\"web_hour_0\")).alias(\"web_hour_0\"),\n",
    "        sum(col(\"web_hour_1\")).alias(\"web_hour_1\"),sum(col(\"web_hour_2\")).alias(\"web_hour_2\"),\n",
    "        sum(col(\"web_hour_3\")).alias(\"web_hour_3\"),sum(col(\"web_hour_4\")).alias(\"web_hour_4\"),\n",
    "        sum(col(\"web_hour_5\")).alias(\"web_hour_5\"),sum(col(\"web_hour_6\")).alias(\"web_hour_6\"),\n",
    "        sum(col(\"web_hour_7\")).alias(\"web_hour_7\"),sum(col(\"web_hour_8\")).alias(\"web_hour_8\"),\n",
    "        sum(col(\"web_hour_9\")).alias(\"web_hour_9\"),sum(col(\"web_hour_10\")).alias(\"web_hour_10\"),\n",
    "        sum(col(\"web_hour_11\")).alias(\"web_hour_11\"),sum(col(\"web_hour_12\")).alias(\"web_hour_12\"),\n",
    "        sum(col(\"web_hour_13\")).alias(\"web_hour_13\"),sum(col(\"web_hour_14\")).alias(\"web_hour_14\"),\n",
    "        sum(col(\"web_hour_15\")).alias(\"web_hour_15\"),sum(col(\"web_hour_16\")).alias(\"web_hour_16\"),\n",
    "        sum(col(\"web_hour_17\")).alias(\"web_hour_17\"),sum(col(\"web_hour_18\")).alias(\"web_hour_18\"),\n",
    "        sum(col(\"web_hour_19\")).alias(\"web_hour_19\"),sum(col(\"web_hour_20\")).alias(\"web_hour_20\"),\n",
    "        sum(col(\"web_hour_21\")).alias(\"web_hour_21\"),sum(col(\"web_hour_22\")).alias(\"web_hour_22\"),\n",
    "        sum(col(\"web_hour_23\")).alias(\"web_hour_23\"), \n",
    "        sum(col(\"visit_work_hours\")).alias(\"visit_work_hours\"),\n",
    "        sum(col(\"visit_evening_hours\")).alias(\"visit_evening_hours\"),\n",
    "        count(lit(1)).alias(\"visit_count\")\n",
    "        )"
   ]
  },
  {
   "cell_type": "code",
   "execution_count": 12,
   "metadata": {},
   "outputs": [
    {
     "data": {
      "text/plain": [
       "timing_frac = [uid: string, web_day_mon: bigint ... 32 more fields]\n"
      ]
     },
     "metadata": {},
     "output_type": "display_data"
    },
    {
     "data": {
      "text/plain": [
       "[uid: string, web_day_mon: bigint ... 32 more fields]"
      ]
     },
     "execution_count": 12,
     "metadata": {},
     "output_type": "execute_result"
    }
   ],
   "source": [
    "val timing_frac = timing_agg\n",
    "    .withColumn(\"web_fraction_work_hours\", col(\"visit_work_hours\")/col(\"visit_count\"))\n",
    "    .withColumn(\"web_fraction_evening_hours\", col(\"visit_evening_hours\")/col(\"visit_count\"))\n",
    "    .drop(\"visit_work_hours\", \"visit_evening_hours\", \"visit_count\")"
   ]
  },
  {
   "cell_type": "code",
   "execution_count": 13,
   "metadata": {},
   "outputs": [
    {
     "data": {
      "text/plain": [
       "weblog_futures = [uid: string, domain_features: array<bigint> ... 33 more fields]\n"
      ]
     },
     "metadata": {},
     "output_type": "display_data"
    },
    {
     "data": {
      "text/plain": [
       "[uid: string, domain_features: array<bigint> ... 33 more fields]"
      ]
     },
     "execution_count": 13,
     "metadata": {},
     "output_type": "execute_result"
    }
   ],
   "source": [
    "val weblog_futures = ecran_result.join(timing_frac, Seq(\"uid\"), \"inner\")"
   ]
  },
  {
   "cell_type": "code",
   "execution_count": 14,
   "metadata": {},
   "outputs": [
    {
     "data": {
      "text/plain": [
       "users_items = [uid: string, buy_cameras_0: bigint ... 639 more fields]\n"
      ]
     },
     "metadata": {},
     "output_type": "display_data"
    },
    {
     "data": {
      "text/plain": [
       "[uid: string, buy_cameras_0: bigint ... 639 more fields]"
      ]
     },
     "execution_count": 14,
     "metadata": {},
     "output_type": "execute_result"
    }
   ],
   "source": [
    "val users_items = spark.read.parquet(\"/user/andrey.blednykh2/users-items/20200429\")"
   ]
  },
  {
   "cell_type": "code",
   "execution_count": 15,
   "metadata": {},
   "outputs": [
    {
     "data": {
      "text/plain": [
       "result_dataframe = [uid: string, buy_cameras_0: bigint ... 673 more fields]\n"
      ]
     },
     "metadata": {},
     "output_type": "display_data"
    },
    {
     "data": {
      "text/plain": [
       "[uid: string, buy_cameras_0: bigint ... 673 more fields]"
      ]
     },
     "execution_count": 15,
     "metadata": {},
     "output_type": "execute_result"
    }
   ],
   "source": [
    "val result_dataframe = users_items\n",
    "    .join(weblog_futures, Seq(\"uid\"), \"full\")\n",
    "    .na.fill(0)"
   ]
  },
  {
   "cell_type": "code",
   "execution_count": 16,
   "metadata": {},
   "outputs": [],
   "source": [
    "result_dataframe\n",
    "    .write\n",
    "    .mode(\"overwrite\")\n",
    "    .parquet(\"/user/andrey.blednykh2/features\")"
   ]
  },
  {
   "cell_type": "code",
   "execution_count": null,
   "metadata": {},
   "outputs": [],
   "source": []
  },
  {
   "cell_type": "code",
   "execution_count": null,
   "metadata": {},
   "outputs": [],
   "source": []
  },
  {
   "cell_type": "code",
   "execution_count": null,
   "metadata": {},
   "outputs": [],
   "source": [
    "//val testdf = List((1, 3, 2, 6), (2, 7, 0, 3)).toDF(\"rn\", \"val1\", \"val2\", \"val3\")\n",
    "val testdf = List((1, 3, 2, 6), (2, 7, 0, 3)).toDF(\"rn\", \"val.1\", \"val.2\", \"val.3\")"
   ]
  },
  {
   "cell_type": "code",
   "execution_count": null,
   "metadata": {},
   "outputs": [],
   "source": [
    "testdf.show(10, 200, true)"
   ]
  },
  {
   "cell_type": "code",
   "execution_count": null,
   "metadata": {},
   "outputs": [],
   "source": [
    "testdf.select(col(\"rn\"), array(testdf.columns.drop(1) map col: _*).alias(\"features\")).show()"
   ]
  },
  {
   "cell_type": "code",
   "execution_count": null,
   "metadata": {},
   "outputs": [],
   "source": []
  }
 ],
 "metadata": {
  "kernelspec": {
   "display_name": "Apache Toree - Scala",
   "language": "scala",
   "name": "apache_toree_scala"
  },
  "language_info": {
   "codemirror_mode": "text/x-scala",
   "file_extension": ".scala",
   "mimetype": "text/x-scala",
   "name": "scala",
   "pygments_lexer": "scala",
   "version": "2.11.12"
  }
 },
 "nbformat": 4,
 "nbformat_minor": 2
}
