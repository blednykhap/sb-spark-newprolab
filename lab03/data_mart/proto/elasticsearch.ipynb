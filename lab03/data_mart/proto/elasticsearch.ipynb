{
 "cells": [
  {
   "cell_type": "code",
   "execution_count": null,
   "metadata": {},
   "outputs": [],
   "source": [
    "%AddJar https://repo1.maven.org/maven2/org/elasticsearch/elasticsearch-spark-20_2.11/7.7.0/elasticsearch-spark-20_2.11-7.7.0.jar"
   ]
  },
  {
   "cell_type": "code",
   "execution_count": null,
   "metadata": {},
   "outputs": [],
   "source": [
    "val spark = SparkSession\n",
    "  .builder()\n",
    "  .appName(\"Lab33\")\n",
    "  .getOrCreate()\n",
    "import spark.implicits._"
   ]
  },
  {
   "cell_type": "code",
   "execution_count": null,
   "metadata": {},
   "outputs": [],
   "source": [
    "val esOptions =\n",
    "  Map(\n",
    "    \"es.nodes\" -> \"10.0.0.5:9200\",\n",
    "    \"es.batch.write.refresh\" -> \"false\",\n",
    "    \"es.nodes.wan.only\" -> \"true\",\n",
    "    \"es.net.http.auth.user\" -> \"andrey.blednykh2\",\n",
    "    \"es.net.http.auth.pass\" -> \"AkRjOhAK\"\n",
    "  )"
   ]
  },
  {
   "cell_type": "code",
   "execution_count": null,
   "metadata": {},
   "outputs": [],
   "source": [
    "var logs = spark.read.format(\"org.elasticsearch.spark.sql\").options(esOptions).load(\"visits*\")"
   ]
  },
  {
   "cell_type": "code",
   "execution_count": null,
   "metadata": {},
   "outputs": [],
   "source": [
    "logs.show(2, 200, true)"
   ]
  },
  {
   "cell_type": "code",
   "execution_count": null,
   "metadata": {},
   "outputs": [],
   "source": [
    "import org.apache.spark.sql.functions._"
   ]
  },
  {
   "cell_type": "code",
   "execution_count": null,
   "metadata": {},
   "outputs": [],
   "source": [
    "val visitsByCategory = logs\n",
    "    .withColumn(\"all_shop_cat\",    \n",
    "        concat(lit(\"shop_\"), regexp_replace(lower(col(\"category\")), \"[-,\\\\s]\", \"_\")))\n",
    "    .select(\"uid\", \"all_shop_cat\")\n",
    "    .na.drop(Seq(\"uid\"))\n",
    "    .groupBy(\"uid\")\n",
    "    .pivot(\"all_shop_cat\")\n",
    "    .agg(count(\"all_shop_cat\"))\n",
    "    .na.fill(0)"
   ]
  },
  {
   "cell_type": "code",
   "execution_count": null,
   "metadata": {},
   "outputs": [],
   "source": [
    "visitsByCategory.show(2, 200, true)"
   ]
  },
  {
   "cell_type": "code",
   "execution_count": null,
   "metadata": {},
   "outputs": [],
   "source": []
  }
 ],
 "metadata": {
  "kernelspec": {
   "display_name": "Apache Toree - Scala",
   "language": "scala",
   "name": "apache_toree_scala"
  },
  "language_info": {
   "codemirror_mode": "text/x-scala",
   "file_extension": ".scala",
   "mimetype": "text/x-scala",
   "name": "scala",
   "pygments_lexer": "scala",
   "version": "2.11.12"
  }
 },
 "nbformat": 4,
 "nbformat_minor": 2
}
