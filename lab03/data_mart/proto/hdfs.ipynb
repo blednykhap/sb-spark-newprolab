{
 "cells": [
  {
   "cell_type": "code",
   "execution_count": null,
   "metadata": {},
   "outputs": [],
   "source": [
    "val logs = spark.read.json(\"/labs/laba03/weblogs.json\")"
   ]
  },
  {
   "cell_type": "code",
   "execution_count": null,
   "metadata": {},
   "outputs": [],
   "source": [
    "logs.printSchema"
   ]
  },
  {
   "cell_type": "code",
   "execution_count": null,
   "metadata": {},
   "outputs": [],
   "source": [
    "logs.show(2, 200, true)"
   ]
  },
  {
   "cell_type": "code",
   "execution_count": null,
   "metadata": {},
   "outputs": [],
   "source": [
    "import org.apache.spark.sql.functions._"
   ]
  },
  {
   "cell_type": "code",
   "execution_count": null,
   "metadata": {},
   "outputs": [],
   "source": [
    "val inf = logs\n",
    "    .select($\"uid\", explode($\"visits\").alias(\"struct_data\"))\n",
    "    .select($\"uid\", $\"struct_data.timestamp\".as(\"timestamp\"), $\"struct_data.url\".as(\"url\"))\n",
    "    .withColumn(\"trick1\", regexp_replace(col(\"url\"), \"https://\", \"http://\"))\n",
    "    .withColumn(\"trick2\", regexp_replace(col(\"trick1\"), \"http://http://\", \"http://\"))    \n",
    "    .withColumn(\"webhost\", \n",
    "                regexp_extract(col(\"trick2\"),\"^(([^:\\\\/?#]+):)?(\\\\/\\\\/([^\\\\/?#]*))?([^?#]*)(\\\\?([^#]*))?(#(.*))?\", 4))\n",
    "    .withColumn(\"hostname\", regexp_replace(col(\"webhost\"), \"^www.\", \"\"))\n",
    "//    .withColumn(\"host2level\", \n",
    "//                regexp_extract(col(\"host\"),\"[^.]*\\\\.[^.]{2,3}(?:\\\\.[^.]{2,3})?$\", 0))"
   ]
  },
  {
   "cell_type": "code",
   "execution_count": null,
   "metadata": {},
   "outputs": [],
   "source": [
    "inf.show(2, 200, true)"
   ]
  },
  {
   "cell_type": "code",
   "execution_count": null,
   "metadata": {},
   "outputs": [],
   "source": [
    "val hostnames = inf.select(\"url\",\"webhost\", \"hostname\").distinct"
   ]
  },
  {
   "cell_type": "code",
   "execution_count": null,
   "metadata": {},
   "outputs": [],
   "source": [
    "hostnames.show(250000, 100, true)"
   ]
  },
  {
   "cell_type": "code",
   "execution_count": null,
   "metadata": {},
   "outputs": [],
   "source": [
    "spark.stop()"
   ]
  },
  {
   "cell_type": "code",
   "execution_count": null,
   "metadata": {},
   "outputs": [],
   "source": []
  }
 ],
 "metadata": {
  "kernelspec": {
   "display_name": "Apache Toree - Scala",
   "language": "scala",
   "name": "apache_toree_scala"
  },
  "language_info": {
   "codemirror_mode": "text/x-scala",
   "file_extension": ".scala",
   "mimetype": "text/x-scala",
   "name": "scala",
   "pygments_lexer": "scala",
   "version": "2.11.12"
  }
 },
 "nbformat": 4,
 "nbformat_minor": 2
}
