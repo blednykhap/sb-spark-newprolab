{
 "cells": [
  {
   "cell_type": "code",
   "execution_count": null,
   "metadata": {},
   "outputs": [],
   "source": [
    "%AddJar https://jdbc.postgresql.org/download/postgresql-42.2.19.jar"
   ]
  },
  {
   "cell_type": "code",
   "execution_count": null,
   "metadata": {},
   "outputs": [],
   "source": [
    "import org.apache.spark.sql.functions._"
   ]
  },
  {
   "cell_type": "code",
   "execution_count": null,
   "metadata": {},
   "outputs": [],
   "source": [
    "val postgreDF = spark.read\n",
    "    .format(\"jdbc\")\n",
    "    .option(\"url\", \"jdbc:postgresql://10.0.0.5:5432/labdata\")\n",
    "    .option(\"dbtable\", \"domain_cats\")\n",
    "    .option(\"user\", \"andrey_blednykh2\")\n",
    "    .option(\"password\", \"AkRjOhAK\")\n",
    "    .option(\"driver\", \"org.postgresql.Driver\")\n",
    "    .load()"
   ]
  },
  {
   "cell_type": "code",
   "execution_count": null,
   "metadata": {},
   "outputs": [],
   "source": [
    "val catSite = postgreDF\n",
    "    .select(\"domain\", \"category\")\n",
    "    .withColumn(\"fullcat\", concat(lit(\"shop_\"), col(\"category\")))"
   ]
  },
  {
   "cell_type": "code",
   "execution_count": null,
   "metadata": {},
   "outputs": [],
   "source": [
    "catSite.show(2, 200, true)"
   ]
  },
  {
   "cell_type": "code",
   "execution_count": null,
   "metadata": {},
   "outputs": [],
   "source": [
    "val hdfsDF = spark.read.json(\"/labs/laba03/weblogs.json\")"
   ]
  },
  {
   "cell_type": "code",
   "execution_count": null,
   "metadata": {},
   "outputs": [],
   "source": [
    "val logs = hdfsDF\n",
    "    .select($\"uid\", explode($\"visits\").alias(\"struct_data\"))\n",
    "    .select($\"uid\", $\"struct_data.timestamp\".as(\"timestamp\"), $\"struct_data.url\".as(\"url\"))\n",
    "    .withColumn(\"trick1\", regexp_replace(col(\"url\"), \"https://\", \"http://\"))\n",
    "    .withColumn(\"trick2\", regexp_replace(col(\"trick1\"), \"http://http://\", \"http://\"))\n",
    "    .withColumn(\"webhost\",\n",
    "        regexp_extract(col(\"trick2\"),\"^(([^:\\\\/?#]+):)?(\\\\/\\\\/([^\\\\/?#]*))?([^?#]*)(\\\\?([^#]*))?(#(.*))?\", 4))\n",
    "    .withColumn(\"domain\", regexp_replace(col(\"webhost\"), \"^www.\", \"\"))"
   ]
  },
  {
   "cell_type": "code",
   "execution_count": null,
   "metadata": {},
   "outputs": [],
   "source": [
    "logs.show(2, 200, true)"
   ]
  },
  {
   "cell_type": "code",
   "execution_count": null,
   "metadata": {},
   "outputs": [],
   "source": [
    "val visits = logs\n",
    "    .join(catSite, Seq(\"domain\"), \"inner\")\n",
    "    .select(\"uid\", \"fullcat\")\n",
    "    .groupBy(\"uid\")\n",
    "    .pivot(\"fullcat\")\n",
    "    .agg(count(\"fullcat\"))"
   ]
  },
  {
   "cell_type": "code",
   "execution_count": null,
   "metadata": {},
   "outputs": [],
   "source": [
    "visits.show(2, 200, true)"
   ]
  },
  {
   "cell_type": "code",
   "execution_count": null,
   "metadata": {},
   "outputs": [],
   "source": [
    "%AddJar https://repo1.maven.org/maven2/com/datastax/spark/spark-cassandra-connector_2.11/2.4.3/spark-cassandra-connector_2.11-2.4.3.jar"
   ]
  },
  {
   "cell_type": "code",
   "execution_count": null,
   "metadata": {},
   "outputs": [],
   "source": [
    "val spark = SparkSession.builder()\n",
    "    .config(\"spark.cassandra.connection.host\", \"10.0.0.5\")\n",
    "    .config(\"spark.cassandra.connection.port\", \"9042\")\n",
    "    .config(\"spark.cassandra.output.consistency.level\", \"ANY\")\n",
    "    .config(\"spark.cassandra.input.consistency.level\", \"ONE\")      \n",
    "    .getOrCreate()"
   ]
  },
  {
   "cell_type": "code",
   "execution_count": null,
   "metadata": {},
   "outputs": [],
   "source": [
    "spark.stop()"
   ]
  },
  {
   "cell_type": "code",
   "execution_count": null,
   "metadata": {},
   "outputs": [],
   "source": []
  }
 ],
 "metadata": {
  "kernelspec": {
   "display_name": "Apache Toree - Scala",
   "language": "scala",
   "name": "apache_toree_scala"
  },
  "language_info": {
   "codemirror_mode": "text/x-scala",
   "file_extension": ".scala",
   "mimetype": "text/x-scala",
   "name": "scala",
   "pygments_lexer": "scala",
   "version": "2.11.12"
  }
 },
 "nbformat": 4,
 "nbformat_minor": 2
}
