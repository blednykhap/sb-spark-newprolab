{
 "cells": [
  {
   "cell_type": "code",
   "execution_count": null,
   "metadata": {},
   "outputs": [],
   "source": [
    "import org.apache.spark.sql.functions._\n",
    "import org.apache.spark.sql.types._"
   ]
  },
  {
   "cell_type": "code",
   "execution_count": 87,
   "metadata": {},
   "outputs": [
    {
     "data": {
      "text/plain": [
       "topic_name = lab04_input_data\n",
       "offset = earliest\n",
       "output_dir_prefix = /user/andrey.blednykh2/visits\n"
      ]
     },
     "metadata": {},
     "output_type": "display_data"
    },
    {
     "data": {
      "text/plain": [
       "/user/andrey.blednykh2/visits"
      ]
     },
     "execution_count": 87,
     "metadata": {},
     "output_type": "execute_result"
    }
   ],
   "source": [
    "val topic_name = \"lab04_input_data\"\n",
    "val offset = \"earliest\"\n",
    "val output_dir_prefix = \"/user/andrey.blednykh2/visits\""
   ]
  },
  {
   "cell_type": "code",
   "execution_count": 88,
   "metadata": {},
   "outputs": [
    {
     "data": {
      "text/plain": [
       "kafkaParams = Map(kafka.bootstrap.servers -> spark-master-1:6667, subscribe -> lab04_input_data, startingOffsets -> earliest)\n"
      ]
     },
     "metadata": {},
     "output_type": "display_data"
    },
    {
     "data": {
      "text/plain": [
       "Map(kafka.bootstrap.servers -> spark-master-1:6667, subscribe -> lab04_input_data, startingOffsets -> earliest)"
      ]
     },
     "execution_count": 88,
     "metadata": {},
     "output_type": "execute_result"
    }
   ],
   "source": [
    "val kafkaParams = Map(\n",
    "        \"kafka.bootstrap.servers\" -> \"spark-master-1:6667\",\n",
    "        \"subscribe\" -> topic_name,\n",
    "        \"startingOffsets\" -> offset\n",
    "    )"
   ]
  },
  {
   "cell_type": "code",
   "execution_count": 89,
   "metadata": {},
   "outputs": [
    {
     "data": {
      "text/plain": [
       "sdf_kafka = [key: binary, value: binary ... 5 more fields]\n"
      ]
     },
     "metadata": {},
     "output_type": "display_data"
    },
    {
     "data": {
      "text/plain": [
       "[key: binary, value: binary ... 5 more fields]"
      ]
     },
     "execution_count": 89,
     "metadata": {},
     "output_type": "execute_result"
    }
   ],
   "source": [
    "val sdf_kafka = spark\n",
    "    .read\n",
    "    .format(\"kafka\")\n",
    "    .options(kafkaParams)\n",
    "    .load"
   ]
  },
  {
   "cell_type": "code",
   "execution_count": 90,
   "metadata": {},
   "outputs": [
    {
     "data": {
      "text/plain": [
       "parsed_sdf_kafka = [key: binary, value: string ... 5 more fields]\n"
      ]
     },
     "metadata": {},
     "output_type": "display_data"
    },
    {
     "data": {
      "text/plain": [
       "[key: binary, value: string ... 5 more fields]"
      ]
     },
     "execution_count": 90,
     "metadata": {},
     "output_type": "execute_result"
    }
   ],
   "source": [
    "val parsed_sdf_kafka = sdf_kafka\n",
    "    .select('key, 'value.cast(\"string\"), 'topic, 'partition, 'offset, 'timestamp, 'timestampType)"
   ]
  },
  {
   "cell_type": "code",
   "execution_count": 91,
   "metadata": {},
   "outputs": [
    {
     "data": {
      "text/plain": [
       "schema = StructType(StructField(event_type,StringType,true), StructField(category,StringType,true), StructField(item_id,StringType,true), StructField(item_price,IntegerType,true), StructField(uid,StringType,true), StructField(timestamp,LongType,true))\n"
      ]
     },
     "metadata": {},
     "output_type": "display_data"
    },
    {
     "data": {
      "text/plain": [
       "StructType(StructField(event_type,StringType,true), StructField(category,StringType,true), StructField(item_id,StringType,true), StructField(item_price,IntegerType,true), StructField(uid,StringType,true), StructField(timestamp,LongType,true))"
      ]
     },
     "execution_count": 91,
     "metadata": {},
     "output_type": "execute_result"
    }
   ],
   "source": [
    "val schema = StructType(Seq(\n",
    "    StructField(\"event_type\", StringType, true),    \n",
    "    StructField(\"category\", StringType, true),\n",
    "    StructField(\"item_id\", StringType, true),\n",
    "    StructField(\"item_price\", IntegerType, true),\n",
    "    StructField(\"uid\", StringType, true),\n",
    "    //StructField(\"timestamp\", StringType, true)\n",
    "    //StructField(\"timestamp\", TimestampType, true)\n",
    "    StructField(\"timestamp\", LongType, true)\n",
    "))"
   ]
  },
  {
   "cell_type": "code",
   "execution_count": 92,
   "metadata": {},
   "outputs": [
    {
     "data": {
      "text/plain": [
       "value_sdf_kafka = [value: string]\n"
      ]
     },
     "metadata": {},
     "output_type": "display_data"
    },
    {
     "data": {
      "text/plain": [
       "[value: string]"
      ]
     },
     "execution_count": 92,
     "metadata": {},
     "output_type": "execute_result"
    }
   ],
   "source": [
    "val value_sdf_kafka = parsed_sdf_kafka.select('value.cast(\"string\"))"
   ]
  },
  {
   "cell_type": "code",
   "execution_count": 93,
   "metadata": {},
   "outputs": [
    {
     "data": {
      "text/plain": [
       "json_sdf_kafka = [event_type: string, category: string ... 4 more fields]\n"
      ]
     },
     "metadata": {},
     "output_type": "display_data"
    },
    {
     "data": {
      "text/plain": [
       "[event_type: string, category: string ... 4 more fields]"
      ]
     },
     "execution_count": 93,
     "metadata": {},
     "output_type": "execute_result"
    }
   ],
   "source": [
    "val json_sdf_kafka = value_sdf_kafka\n",
    "    .withColumn(\"value\", from_json($\"value\", schema))\n",
    "    .select($\"value.*\")"
   ]
  },
  {
   "cell_type": "code",
   "execution_count": 94,
   "metadata": {},
   "outputs": [
    {
     "name": "stdout",
     "output_type": "stream",
     "text": [
      "-RECORD 0------------------------------------------\n",
      " event_type | buy                                  \n",
      " category   | Entertainment-equipment              \n",
      " item_id    | Entertainment-equipment-2            \n",
      " item_price | 2529                                 \n",
      " uid        | 40b29579-e845-45c0-a34d-03630d296a81 \n",
      " timestamp  | 1577865600000                        \n",
      "only showing top 1 row\n",
      "\n"
     ]
    }
   ],
   "source": [
    "json_sdf_kafka.show(1,200,true)"
   ]
  },
  {
   "cell_type": "code",
   "execution_count": 95,
   "metadata": {},
   "outputs": [
    {
     "data": {
      "text/plain": [
       "k_date = [event_type: string, category: string ... 6 more fields]\n"
      ]
     },
     "metadata": {},
     "output_type": "display_data"
    },
    {
     "data": {
      "text/plain": [
       "[event_type: string, category: string ... 6 more fields]"
      ]
     },
     "execution_count": 95,
     "metadata": {},
     "output_type": "execute_result"
    }
   ],
   "source": [
    "val k_date = json_sdf_kafka\n",
    "    .withColumn(\"date\", \n",
    "                trim(date_format(to_timestamp((col(\"timestamp\")/1000).cast(\"long\")),\"yyyyMMdd\")))\n",
    "    .withColumn(\"p_date\", \n",
    "                trim(date_format(to_timestamp((col(\"timestamp\")/1000).cast(\"long\")),\"yyyyMMdd\")))\n",
    "    .cache()"
   ]
  },
  {
   "cell_type": "code",
   "execution_count": 96,
   "metadata": {},
   "outputs": [
    {
     "data": {
      "text/plain": [
       "k_view_date = [category: string, event_type: string ... 6 more fields]\n"
      ]
     },
     "metadata": {},
     "output_type": "display_data"
    },
    {
     "data": {
      "text/plain": [
       "[category: string, event_type: string ... 6 more fields]"
      ]
     },
     "execution_count": 96,
     "metadata": {},
     "output_type": "execute_result"
    }
   ],
   "source": [
    "val k_view_date = k_date\n",
    "    .select(\"category\",\"event_type\",\"item_id\",\"item_price\",\"timestamp\",\"uid\",\"date\",\"p_date\")\n",
    "    .filter(\"event_type = 'view'\")"
   ]
  },
  {
   "cell_type": "code",
   "execution_count": 97,
   "metadata": {},
   "outputs": [
    {
     "data": {
      "text/plain": [
       "k_buy_date = [category: string, event_type: string ... 6 more fields]\n"
      ]
     },
     "metadata": {},
     "output_type": "display_data"
    },
    {
     "data": {
      "text/plain": [
       "[category: string, event_type: string ... 6 more fields]"
      ]
     },
     "execution_count": 97,
     "metadata": {},
     "output_type": "execute_result"
    }
   ],
   "source": [
    "val k_buy_date = k_date\n",
    "    .select(\"category\",\"event_type\",\"item_id\",\"item_price\",\"timestamp\",\"uid\",\"date\",\"p_date\")\n",
    "    .filter(\"event_type = 'buy'\")"
   ]
  },
  {
   "cell_type": "code",
   "execution_count": 98,
   "metadata": {},
   "outputs": [],
   "source": [
    "//import spark.implicits._\n",
    "k_view_date\n",
    "    .repartition($\"p_date\")\n",
    "    .write\n",
    "    .partitionBy(\"p_date\")\n",
    "    .json(s\"$output_dir_prefix/view/\")"
   ]
  },
  {
   "cell_type": "code",
   "execution_count": 100,
   "metadata": {},
   "outputs": [],
   "source": [
    "//import spark.implicits._\n",
    "k_buy_date\n",
    "    .repartition($\"p_date\")\n",
    "    .write\n",
    "    .partitionBy(\"p_date\")\n",
    "    .json(s\"$output_dir_prefix/buy/\")"
   ]
  },
  {
   "cell_type": "code",
   "execution_count": null,
   "metadata": {},
   "outputs": [],
   "source": []
  },
  {
   "cell_type": "code",
   "execution_count": null,
   "metadata": {},
   "outputs": [],
   "source": []
  },
  {
   "cell_type": "code",
   "execution_count": null,
   "metadata": {},
   "outputs": [],
   "source": []
  },
  {
   "cell_type": "code",
   "execution_count": null,
   "metadata": {},
   "outputs": [],
   "source": []
  },
  {
   "cell_type": "code",
   "execution_count": null,
   "metadata": {},
   "outputs": [],
   "source": []
  },
  {
   "cell_type": "code",
   "execution_count": null,
   "metadata": {},
   "outputs": [],
   "source": []
  }
 ],
 "metadata": {
  "kernelspec": {
   "display_name": "Apache Toree - Scala",
   "language": "scala",
   "name": "apache_toree_scala"
  },
  "language_info": {
   "codemirror_mode": "text/x-scala",
   "file_extension": ".scala",
   "mimetype": "text/x-scala",
   "name": "scala",
   "pygments_lexer": "scala",
   "version": "2.11.12"
  }
 },
 "nbformat": 4,
 "nbformat_minor": 2
}
