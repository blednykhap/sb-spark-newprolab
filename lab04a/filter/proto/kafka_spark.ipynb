{
 "cells": [
  {
   "cell_type": "code",
   "execution_count": 74,
   "metadata": {},
   "outputs": [],
   "source": [
    "import org.apache.spark.sql.functions._\n",
    "import org.apache.spark.sql.types._"
   ]
  },
  {
   "cell_type": "code",
   "execution_count": 75,
   "metadata": {},
   "outputs": [
    {
     "data": {
      "text/plain": [
       "offset = earliest\n"
      ]
     },
     "metadata": {},
     "output_type": "display_data"
    },
    {
     "data": {
      "text/plain": [
       "earliest"
      ]
     },
     "execution_count": 75,
     "metadata": {},
     "output_type": "execute_result"
    }
   ],
   "source": [
    "var offset = \"earliest\"\n",
    "//val test: Int = 20\n",
    "\n",
    "if (offset != \"earliest\") {\n",
    "    offset = s\"\"\"{\"$topic_name\":{\"0\":$offset}}\"\"\"\n",
    "}"
   ]
  },
  {
   "cell_type": "code",
   "execution_count": 76,
   "metadata": {},
   "outputs": [
    {
     "data": {
      "text/plain": [
       "topic_name = lab04_input_data\n",
       "test = 20\n",
       "output_dir_prefix = /user/andrey.blednykh2/visits\n"
      ]
     },
     "metadata": {},
     "output_type": "display_data"
    },
    {
     "data": {
      "text/plain": [
       "/user/andrey.blednykh2/visits"
      ]
     },
     "execution_count": 76,
     "metadata": {},
     "output_type": "execute_result"
    }
   ],
   "source": [
    "val topic_name = \"lab04_input_data\"\n",
    "\n",
    "val output_dir_prefix = \"/user/andrey.blednykh2/visits\""
   ]
  },
  {
   "cell_type": "code",
   "execution_count": 78,
   "metadata": {},
   "outputs": [
    {
     "data": {
      "text/plain": [
       "Name: Compile Error\n",
       "Message: <console>:63: error: not found: value latest\n",
       "               \"endingOffsets\" -> latest\n",
       "                                  ^\n",
       "\n",
       "StackTrace: "
      ]
     },
     "execution_count": 78,
     "metadata": {},
     "output_type": "execute_result"
    }
   ],
   "source": [
    "val kafkaParams = Map(\n",
    "        \"kafka.bootstrap.servers\" -> \"spark-master-1:6667\",\n",
    "        \"subscribe\" -> topic_name,\n",
    "        \"startingOffsets\" -> offset,\n",
    "        \"endingOffsets\" -> latest\n",
    "    )"
   ]
  },
  {
   "cell_type": "code",
   "execution_count": 79,
   "metadata": {},
   "outputs": [
    {
     "data": {
      "text/plain": [
       "df_kafka = [key: binary, value: binary ... 5 more fields]\n"
      ]
     },
     "metadata": {},
     "output_type": "display_data"
    },
    {
     "data": {
      "text/plain": [
       "[key: binary, value: binary ... 5 more fields]"
      ]
     },
     "execution_count": 79,
     "metadata": {},
     "output_type": "execute_result"
    }
   ],
   "source": [
    "val df_kafka = spark\n",
    "    .read\n",
    "    .format(\"kafka\")\n",
    "    .options(kafkaParams)\n",
    "    .load"
   ]
  },
  {
   "cell_type": "code",
   "execution_count": 81,
   "metadata": {},
   "outputs": [
    {
     "data": {
      "text/plain": [
       "parsed_df_kafka = [key: binary, value: string ... 5 more fields]\n"
      ]
     },
     "metadata": {},
     "output_type": "display_data"
    },
    {
     "data": {
      "text/plain": [
       "[key: binary, value: string ... 5 more fields]"
      ]
     },
     "execution_count": 81,
     "metadata": {},
     "output_type": "execute_result"
    }
   ],
   "source": [
    "val parsed_df_kafka = df_kafka\n",
    "    .select('key, 'value.cast(\"string\"), 'topic, 'partition, 'offset, 'timestamp, 'timestampType)"
   ]
  },
  {
   "cell_type": "code",
   "execution_count": 82,
   "metadata": {},
   "outputs": [
    {
     "data": {
      "text/plain": [
       "value_df_kafka = [value: string]\n"
      ]
     },
     "metadata": {},
     "output_type": "display_data"
    },
    {
     "data": {
      "text/plain": [
       "[value: string]"
      ]
     },
     "execution_count": 82,
     "metadata": {},
     "output_type": "execute_result"
    }
   ],
   "source": [
    "val value_df_kafka = parsed_df_kafka.select('value.cast(\"string\"))"
   ]
  },
  {
   "cell_type": "code",
   "execution_count": 83,
   "metadata": {},
   "outputs": [
    {
     "data": {
      "text/plain": [
       "schema = StructType(StructField(event_type,StringType,true), StructField(category,StringType,true), StructField(item_id,StringType,true), StructField(item_price,IntegerType,true), StructField(uid,StringType,true), StructField(timestamp,LongType,true))\n"
      ]
     },
     "metadata": {},
     "output_type": "display_data"
    },
    {
     "data": {
      "text/plain": [
       "StructType(StructField(event_type,StringType,true), StructField(category,StringType,true), StructField(item_id,StringType,true), StructField(item_price,IntegerType,true), StructField(uid,StringType,true), StructField(timestamp,LongType,true))"
      ]
     },
     "execution_count": 83,
     "metadata": {},
     "output_type": "execute_result"
    }
   ],
   "source": [
    "val schema = StructType(Seq(\n",
    "    StructField(\"event_type\", StringType, true),    \n",
    "    StructField(\"category\", StringType, true),\n",
    "    StructField(\"item_id\", StringType, true),\n",
    "    StructField(\"item_price\", IntegerType, true),\n",
    "    StructField(\"uid\", StringType, true),\n",
    "    //StructField(\"timestamp\", StringType, true)\n",
    "    //StructField(\"timestamp\", TimestampType, true)\n",
    "    StructField(\"timestamp\", LongType, true)\n",
    "))"
   ]
  },
  {
   "cell_type": "code",
   "execution_count": 84,
   "metadata": {},
   "outputs": [
    {
     "data": {
      "text/plain": [
       "json_df_kafka = [event_type: string, category: string ... 4 more fields]\n"
      ]
     },
     "metadata": {},
     "output_type": "display_data"
    },
    {
     "data": {
      "text/plain": [
       "[event_type: string, category: string ... 4 more fields]"
      ]
     },
     "execution_count": 84,
     "metadata": {},
     "output_type": "execute_result"
    }
   ],
   "source": [
    "val json_df_kafka = value_df_kafka\n",
    "    .withColumn(\"value\", from_json($\"value\", schema))\n",
    "    .select($\"value.*\")"
   ]
  },
  {
   "cell_type": "code",
   "execution_count": null,
   "metadata": {},
   "outputs": [],
   "source": [
    "json_df_kafka.show(1,200,true)"
   ]
  },
  {
   "cell_type": "code",
   "execution_count": 85,
   "metadata": {},
   "outputs": [
    {
     "data": {
      "text/plain": [
       "k_date = [event_type: string, category: string ... 6 more fields]\n"
      ]
     },
     "metadata": {},
     "output_type": "display_data"
    },
    {
     "data": {
      "text/plain": [
       "[event_type: string, category: string ... 6 more fields]"
      ]
     },
     "execution_count": 85,
     "metadata": {},
     "output_type": "execute_result"
    }
   ],
   "source": [
    "val k_date = json_df_kafka\n",
    "    .withColumn(\"date\", \n",
    "                trim(date_format(to_timestamp((col(\"timestamp\")/1000).cast(\"long\")),\"yyyyMMdd\")))\n",
    "    .withColumn(\"p_date\", \n",
    "                trim(date_format(to_timestamp((col(\"timestamp\")/1000).cast(\"long\")),\"yyyyMMdd\")))\n",
    "    .cache()"
   ]
  },
  {
   "cell_type": "code",
   "execution_count": 86,
   "metadata": {},
   "outputs": [
    {
     "data": {
      "text/plain": [
       "k_view_date = [category: string, event_type: string ... 6 more fields]\n"
      ]
     },
     "metadata": {},
     "output_type": "display_data"
    },
    {
     "data": {
      "text/plain": [
       "[category: string, event_type: string ... 6 more fields]"
      ]
     },
     "execution_count": 86,
     "metadata": {},
     "output_type": "execute_result"
    }
   ],
   "source": [
    "val k_view_date = k_date\n",
    "    .select(\"category\",\"event_type\",\"item_id\",\"item_price\",\"timestamp\",\"uid\",\"date\",\"p_date\")\n",
    "    .filter(\"event_type = 'view'\")\n",
    "    //.na.drop(Seq(\"uid\"))\n",
    "    //.filter($\"uid\" =!= \"unknown\")"
   ]
  },
  {
   "cell_type": "code",
   "execution_count": null,
   "metadata": {},
   "outputs": [],
   "source": [
    "k_view_date.count"
   ]
  },
  {
   "cell_type": "code",
   "execution_count": null,
   "metadata": {},
   "outputs": [],
   "source": [
    "k_view_date.show(200, 200, true)"
   ]
  },
  {
   "cell_type": "code",
   "execution_count": 87,
   "metadata": {},
   "outputs": [
    {
     "data": {
      "text/plain": [
       "k_buy_date = [category: string, event_type: string ... 6 more fields]\n"
      ]
     },
     "metadata": {},
     "output_type": "display_data"
    },
    {
     "data": {
      "text/plain": [
       "[category: string, event_type: string ... 6 more fields]"
      ]
     },
     "execution_count": 87,
     "metadata": {},
     "output_type": "execute_result"
    }
   ],
   "source": [
    "val k_buy_date = k_date\n",
    "    .select(\"category\",\"event_type\",\"item_id\",\"item_price\",\"timestamp\",\"uid\",\"date\",\"p_date\")\n",
    "    .filter(\"event_type = 'buy'\")\n",
    "    //.na.drop(Seq(\"uid\"))\n",
    "    //.filter($\"uid\" =!= \"unknown\")"
   ]
  },
  {
   "cell_type": "code",
   "execution_count": null,
   "metadata": {},
   "outputs": [],
   "source": [
    "k_buy_date.count"
   ]
  },
  {
   "cell_type": "code",
   "execution_count": null,
   "metadata": {},
   "outputs": [],
   "source": [
    "k_buy_date.show(10, 200, true)"
   ]
  },
  {
   "cell_type": "code",
   "execution_count": 88,
   "metadata": {},
   "outputs": [],
   "source": [
    "//import spark.implicits._\n",
    "k_view_date\n",
    "    //.repartition($\"p_date\")\n",
    "    .write\n",
    "    .mode(\"overwrite\")\n",
    "    .partitionBy(\"p_date\")\n",
    "    .json(s\"$output_dir_prefix/view/\")"
   ]
  },
  {
   "cell_type": "code",
   "execution_count": 89,
   "metadata": {},
   "outputs": [],
   "source": [
    "//import spark.implicits._\n",
    "k_buy_date\n",
    "    //.repartition($\"p_date\")\n",
    "    .write\n",
    "    .mode(\"overwrite\")\n",
    "    .partitionBy(\"p_date\")\n",
    "    .json(s\"$output_dir_prefix/buy/\")"
   ]
  },
  {
   "cell_type": "code",
   "execution_count": null,
   "metadata": {},
   "outputs": [],
   "source": []
  },
  {
   "cell_type": "code",
   "execution_count": null,
   "metadata": {},
   "outputs": [],
   "source": []
  }
 ],
 "metadata": {
  "kernelspec": {
   "display_name": "Apache Toree - Scala",
   "language": "scala",
   "name": "apache_toree_scala"
  },
  "language_info": {
   "codemirror_mode": "text/x-scala",
   "file_extension": ".scala",
   "mimetype": "text/x-scala",
   "name": "scala",
   "pygments_lexer": "scala",
   "version": "2.11.12"
  }
 },
 "nbformat": 4,
 "nbformat_minor": 2
}
